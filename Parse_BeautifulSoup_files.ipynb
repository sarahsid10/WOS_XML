{
 "cells": [
  {
   "cell_type": "code",
   "execution_count": 1,
   "metadata": {},
   "outputs": [],
   "source": [
    "from bs4 import BeautifulSoup"
   ]
  },
  {
   "cell_type": "code",
   "execution_count": 2,
   "metadata": {},
   "outputs": [],
   "source": [
    "import cchardet"
   ]
  },
  {
   "cell_type": "code",
   "execution_count": 3,
   "metadata": {},
   "outputs": [],
   "source": [
    "import time"
   ]
  },
  {
   "cell_type": "code",
   "execution_count": 4,
   "metadata": {},
   "outputs": [],
   "source": [
    "import re"
   ]
  },
  {
   "cell_type": "code",
   "execution_count": 5,
   "metadata": {},
   "outputs": [],
   "source": [
    "import pandas as pd"
   ]
  },
  {
   "cell_type": "code",
   "execution_count": 6,
   "metadata": {},
   "outputs": [],
   "source": [
    "#file2\n",
    "#with open(\"2020_CORE/WR_2020_20210120185931_CORE_0002.xml\", 'r') as f:\n",
    "#     file = f.read()\n"
   ]
  },
  {
   "cell_type": "code",
   "execution_count": 7,
   "metadata": {},
   "outputs": [],
   "source": [
    "#file3\n",
    "with open(\"2020_CORE/WR_2020_20210120185931_CORE_0003.xml\", 'r') as f:\n",
    "     file = f.read()"
   ]
  },
  {
   "cell_type": "code",
   "execution_count": 8,
   "metadata": {},
   "outputs": [],
   "source": [
    "t0=time.time()"
   ]
  },
  {
   "cell_type": "code",
   "execution_count": 9,
   "metadata": {},
   "outputs": [],
   "source": [
    "soup = BeautifulSoup(file, 'xml')"
   ]
  },
  {
   "cell_type": "code",
   "execution_count": 10,
   "metadata": {},
   "outputs": [],
   "source": [
    "t1=time.time()"
   ]
  },
  {
   "cell_type": "code",
   "execution_count": 11,
   "metadata": {},
   "outputs": [
    {
     "name": "stdout",
     "output_type": "stream",
     "text": [
      "37.15894385178884 mins\n"
     ]
    }
   ],
   "source": [
    "time_taken=t1-t0\n",
    "print(time_taken/60, \"mins\")"
   ]
  },
  {
   "cell_type": "code",
   "execution_count": 12,
   "metadata": {},
   "outputs": [],
   "source": [
    "#getting complete records\n",
    "records = soup.findAll(\"REC\")"
   ]
  },
  {
   "cell_type": "code",
   "execution_count": 13,
   "metadata": {},
   "outputs": [
    {
     "data": {
      "text/plain": [
       "100000"
      ]
     },
     "execution_count": 13,
     "metadata": {},
     "output_type": "execute_result"
    }
   ],
   "source": [
    "len(records)"
   ]
  },
  {
   "cell_type": "code",
   "execution_count": 14,
   "metadata": {},
   "outputs": [],
   "source": [
    "uids = soup.find_all('UID')"
   ]
  },
  {
   "cell_type": "code",
   "execution_count": 15,
   "metadata": {},
   "outputs": [],
   "source": [
    "UID=[]\n",
    "for data in uids:\n",
    "    UID.append(data.get_text())"
   ]
  },
  {
   "cell_type": "code",
   "execution_count": 16,
   "metadata": {},
   "outputs": [],
   "source": [
    "titles = soup.find_all('title', type='source') #getting all journal etc. names"
   ]
  },
  {
   "cell_type": "code",
   "execution_count": 17,
   "metadata": {},
   "outputs": [],
   "source": [
    "title=[]\n",
    "for data in titles:\n",
    "    title.append(data.get_text())"
   ]
  },
  {
   "cell_type": "code",
   "execution_count": 18,
   "metadata": {},
   "outputs": [],
   "source": [
    "#getting all publishers by record\n",
    "publish = soup.find_all('publishers')"
   ]
  },
  {
   "cell_type": "code",
   "execution_count": 19,
   "metadata": {},
   "outputs": [],
   "source": [
    "publisher=[]\n",
    "for i in range(len(publish)):\n",
    "    publisher.append(publish[i].findChild('display_name').get_text()) # because it's a subtag do findChild"
   ]
  },
  {
   "cell_type": "code",
   "execution_count": 20,
   "metadata": {},
   "outputs": [],
   "source": [
    "t2=time.time()"
   ]
  },
  {
   "cell_type": "code",
   "execution_count": 21,
   "metadata": {},
   "outputs": [],
   "source": [
    "#convert records to string to get author names - takes around 13 minutes to run\n",
    "allauthornames=[]\n",
    "for i in range(len(records)):\n",
    "    allauthornames.append(re.findall('<wos_standard>(.*?)</wos_standard>',records[i].decode()))"
   ]
  },
  {
   "cell_type": "code",
   "execution_count": 22,
   "metadata": {},
   "outputs": [],
   "source": [
    "t3=time.time()"
   ]
  },
  {
   "cell_type": "code",
   "execution_count": 23,
   "metadata": {},
   "outputs": [
    {
     "name": "stdout",
     "output_type": "stream",
     "text": [
      "13.41612833738327 mins\n"
     ]
    }
   ],
   "source": [
    "time_taken=t3-t2\n",
    "print(time_taken/60, \"mins\")"
   ]
  },
  {
   "cell_type": "code",
   "execution_count": 24,
   "metadata": {},
   "outputs": [],
   "source": [
    "# function to get unique values\n",
    "def unique(list1):\n",
    "\n",
    "    # initialize a null list\n",
    "    unique_list = []\n",
    "\n",
    "    # traverse for all elements\n",
    "    for x in list1:\n",
    "        # check if exists in unique_list or not\n",
    "        if x not in unique_list:\n",
    "            unique_list.append(x)\n",
    "    # print list\n",
    "    #for x in unique_list:\n",
    "     #   print(x)\n",
    "    return unique_list"
   ]
  },
  {
   "cell_type": "code",
   "execution_count": 25,
   "metadata": {},
   "outputs": [],
   "source": [
    "authors=[]\n",
    "for i in range(len(allauthornames)):\n",
    "    authors.append(unique(allauthornames[i]))"
   ]
  },
  {
   "cell_type": "code",
   "execution_count": 26,
   "metadata": {},
   "outputs": [],
   "source": [
    "#getting author names and affiliations from the addresses tags\n",
    "address = soup.find_all('addresses' )"
   ]
  },
  {
   "cell_type": "code",
   "execution_count": 27,
   "metadata": {},
   "outputs": [],
   "source": [
    "#getting the number of authors in each record having affiliation\n",
    "authors_w_aff=[]\n",
    "for i in range(len(address)):\n",
    "    authors_w_aff.append(len(unique(address[i].find_all('display_name'))))"
   ]
  },
  {
   "cell_type": "code",
   "execution_count": 28,
   "metadata": {},
   "outputs": [],
   "source": [
    "add_names=[]\n",
    "for data in address:\n",
    "    add_names.append(data.get_text())"
   ]
  },
  {
   "cell_type": "code",
   "execution_count": 29,
   "metadata": {},
   "outputs": [],
   "source": [
    "pattern = '\\n\\n\\n\\n\\n\\n' ### 6 \\n -> new author/address combination in address"
   ]
  },
  {
   "cell_type": "code",
   "execution_count": 30,
   "metadata": {},
   "outputs": [],
   "source": [
    "num_aff=[]\n",
    "for i in range(len(add_names)):\n",
    "    if(len(add_names[i]))>0:\n",
    "        value=len(re.findall(pattern, add_names[i]))+1  #need to add 1 for records with data\n",
    "    else: value = 0\n",
    "    num_aff.append(value)"
   ]
  },
  {
   "cell_type": "code",
   "execution_count": 31,
   "metadata": {},
   "outputs": [],
   "source": [
    "df=pd.DataFrame()"
   ]
  },
  {
   "cell_type": "code",
   "execution_count": 32,
   "metadata": {},
   "outputs": [],
   "source": [
    "df['UID']=UID"
   ]
  },
  {
   "cell_type": "code",
   "execution_count": 33,
   "metadata": {},
   "outputs": [],
   "source": [
    "df['Number of Affiliations'] = num_aff"
   ]
  },
  {
   "cell_type": "code",
   "execution_count": 34,
   "metadata": {},
   "outputs": [],
   "source": [
    "df['No. of Authors with Aff'] = authors_w_aff"
   ]
  },
  {
   "cell_type": "code",
   "execution_count": 35,
   "metadata": {},
   "outputs": [],
   "source": [
    "df['Source Title'] = title"
   ]
  },
  {
   "cell_type": "code",
   "execution_count": 36,
   "metadata": {},
   "outputs": [],
   "source": [
    "df['Publisher'] = publisher"
   ]
  },
  {
   "cell_type": "code",
   "execution_count": 37,
   "metadata": {},
   "outputs": [],
   "source": [
    "df['All Authors'] = authors"
   ]
  },
  {
   "cell_type": "code",
   "execution_count": 38,
   "metadata": {},
   "outputs": [],
   "source": [
    "df['Authors with Aff text']=add_names"
   ]
  },
  {
   "cell_type": "code",
   "execution_count": 39,
   "metadata": {},
   "outputs": [],
   "source": [
    "#df.to_csv(\"WOS2_description.csv\", index=False)\n",
    "df.to_csv(\"WOS3_description.csv\", index=False)"
   ]
  },
  {
   "cell_type": "code",
   "execution_count": 40,
   "metadata": {},
   "outputs": [],
   "source": [
    "#df.describe()#for file 2"
   ]
  },
  {
   "cell_type": "code",
   "execution_count": 41,
   "metadata": {},
   "outputs": [
    {
     "data": {
      "text/html": [
       "<div>\n",
       "<style scoped>\n",
       "    .dataframe tbody tr th:only-of-type {\n",
       "        vertical-align: middle;\n",
       "    }\n",
       "\n",
       "    .dataframe tbody tr th {\n",
       "        vertical-align: top;\n",
       "    }\n",
       "\n",
       "    .dataframe thead th {\n",
       "        text-align: right;\n",
       "    }\n",
       "</style>\n",
       "<table border=\"1\" class=\"dataframe\">\n",
       "  <thead>\n",
       "    <tr style=\"text-align: right;\">\n",
       "      <th></th>\n",
       "      <th>UID</th>\n",
       "      <th>Number of Affiliations</th>\n",
       "      <th>No. of Authors with Aff</th>\n",
       "      <th>Source Title</th>\n",
       "      <th>Publisher</th>\n",
       "      <th>All Authors</th>\n",
       "      <th>Authors with Aff text</th>\n",
       "    </tr>\n",
       "  </thead>\n",
       "  <tbody>\n",
       "    <tr>\n",
       "      <th>0</th>\n",
       "      <td>WOS:000526811600009</td>\n",
       "      <td>27</td>\n",
       "      <td>29</td>\n",
       "      <td>JOURNAL OF CLINICAL ONCOLOGY</td>\n",
       "      <td>AMER SOC CLINICAL ONCOLOGY</td>\n",
       "      <td>[Delaloge, S, Piccart, M, Rutgers, E, Litiere,...</td>\n",
       "      <td>\\n\\n\\nGustave Roussy, Villejuif, France\\n\\nGus...</td>\n",
       "    </tr>\n",
       "    <tr>\n",
       "      <th>1</th>\n",
       "      <td>WOS:000560368303200</td>\n",
       "      <td>1</td>\n",
       "      <td>0</td>\n",
       "      <td>JOURNAL OF CLINICAL ONCOLOGY</td>\n",
       "      <td>AMER SOC CLINICAL ONCOLOGY</td>\n",
       "      <td>[Scarpa, FJ, Paul, M, Wolfson, WA, Weiss, LM, ...</td>\n",
       "      <td>\\n\\n\\nNeoGenom Labs, Aliso Viejo, CA USA\\n\\nNe...</td>\n",
       "    </tr>\n",
       "    <tr>\n",
       "      <th>2</th>\n",
       "      <td>WOS:000547704900008</td>\n",
       "      <td>1</td>\n",
       "      <td>3</td>\n",
       "      <td>MOLECULAR SYSTEMS DESIGN &amp; ENGINEERING</td>\n",
       "      <td>ROYAL SOC CHEMISTRY</td>\n",
       "      <td>[Shi, JL, Sidky, H, Whitmer, JK]</td>\n",
       "      <td>\\n\\n\\nUniv Notre Dame, Dept Chem &amp; Biomol Engn...</td>\n",
       "    </tr>\n",
       "    <tr>\n",
       "      <th>3</th>\n",
       "      <td>WOS:000564800900006</td>\n",
       "      <td>5</td>\n",
       "      <td>9</td>\n",
       "      <td>QUATERNARY SCIENCE REVIEWS</td>\n",
       "      <td>PERGAMON-ELSEVIER SCIENCE LTD</td>\n",
       "      <td>[Toti, F, Bertini, A, Girone, A, Marino, M, Ma...</td>\n",
       "      <td>\\n\\n\\nUniv Firenze, Dipartimento Sci Terra, Vi...</td>\n",
       "    </tr>\n",
       "    <tr>\n",
       "      <th>4</th>\n",
       "      <td>WOS:000585840800019</td>\n",
       "      <td>3</td>\n",
       "      <td>4</td>\n",
       "      <td>PLANT PHYSIOLOGY</td>\n",
       "      <td>AMER SOC PLANT BIOLOGISTS</td>\n",
       "      <td>[Belanger, S, Pokhrel, S, Czymmek, K, Meyers, BC]</td>\n",
       "      <td>\\n\\n\\nDonald Danforth Plant Sci Ctr, St Louis,...</td>\n",
       "    </tr>\n",
       "  </tbody>\n",
       "</table>\n",
       "</div>"
      ],
      "text/plain": [
       "                   UID  Number of Affiliations  No. of Authors with Aff  \\\n",
       "0  WOS:000526811600009                      27                       29   \n",
       "1  WOS:000560368303200                       1                        0   \n",
       "2  WOS:000547704900008                       1                        3   \n",
       "3  WOS:000564800900006                       5                        9   \n",
       "4  WOS:000585840800019                       3                        4   \n",
       "\n",
       "                             Source Title                      Publisher  \\\n",
       "0            JOURNAL OF CLINICAL ONCOLOGY     AMER SOC CLINICAL ONCOLOGY   \n",
       "1            JOURNAL OF CLINICAL ONCOLOGY     AMER SOC CLINICAL ONCOLOGY   \n",
       "2  MOLECULAR SYSTEMS DESIGN & ENGINEERING            ROYAL SOC CHEMISTRY   \n",
       "3              QUATERNARY SCIENCE REVIEWS  PERGAMON-ELSEVIER SCIENCE LTD   \n",
       "4                        PLANT PHYSIOLOGY      AMER SOC PLANT BIOLOGISTS   \n",
       "\n",
       "                                         All Authors  \\\n",
       "0  [Delaloge, S, Piccart, M, Rutgers, E, Litiere,...   \n",
       "1  [Scarpa, FJ, Paul, M, Wolfson, WA, Weiss, LM, ...   \n",
       "2                   [Shi, JL, Sidky, H, Whitmer, JK]   \n",
       "3  [Toti, F, Bertini, A, Girone, A, Marino, M, Ma...   \n",
       "4  [Belanger, S, Pokhrel, S, Czymmek, K, Meyers, BC]   \n",
       "\n",
       "                               Authors with Aff text  \n",
       "0  \\n\\n\\nGustave Roussy, Villejuif, France\\n\\nGus...  \n",
       "1  \\n\\n\\nNeoGenom Labs, Aliso Viejo, CA USA\\n\\nNe...  \n",
       "2  \\n\\n\\nUniv Notre Dame, Dept Chem & Biomol Engn...  \n",
       "3  \\n\\n\\nUniv Firenze, Dipartimento Sci Terra, Vi...  \n",
       "4  \\n\\n\\nDonald Danforth Plant Sci Ctr, St Louis,...  "
      ]
     },
     "execution_count": 41,
     "metadata": {},
     "output_type": "execute_result"
    }
   ],
   "source": [
    "df.head()"
   ]
  },
  {
   "cell_type": "code",
   "execution_count": 42,
   "metadata": {},
   "outputs": [
    {
     "data": {
      "text/html": [
       "<div>\n",
       "<style scoped>\n",
       "    .dataframe tbody tr th:only-of-type {\n",
       "        vertical-align: middle;\n",
       "    }\n",
       "\n",
       "    .dataframe tbody tr th {\n",
       "        vertical-align: top;\n",
       "    }\n",
       "\n",
       "    .dataframe thead th {\n",
       "        text-align: right;\n",
       "    }\n",
       "</style>\n",
       "<table border=\"1\" class=\"dataframe\">\n",
       "  <thead>\n",
       "    <tr style=\"text-align: right;\">\n",
       "      <th></th>\n",
       "      <th>UID</th>\n",
       "      <th>Number of Affiliations</th>\n",
       "      <th>No. of Authors with Aff</th>\n",
       "      <th>Source Title</th>\n",
       "      <th>Publisher</th>\n",
       "      <th>All Authors</th>\n",
       "      <th>Authors with Aff text</th>\n",
       "    </tr>\n",
       "  </thead>\n",
       "  <tbody>\n",
       "    <tr>\n",
       "      <th>99995</th>\n",
       "      <td>WOS:000516426900002</td>\n",
       "      <td>1</td>\n",
       "      <td>2</td>\n",
       "      <td>CLUSTER COMPUTING-THE JOURNAL OF NETWORKS SOFT...</td>\n",
       "      <td>SPRINGER</td>\n",
       "      <td>[Mishra, SK, Manjula, R]</td>\n",
       "      <td>\\n\\n\\nVIT Univ, Sch Comp Sci &amp; Engn SCOPE, Vel...</td>\n",
       "    </tr>\n",
       "    <tr>\n",
       "      <th>99996</th>\n",
       "      <td>WOS:000558533200095</td>\n",
       "      <td>1</td>\n",
       "      <td>6</td>\n",
       "      <td>ENERGY</td>\n",
       "      <td>PERGAMON-ELSEVIER SCIENCE LTD</td>\n",
       "      <td>[Diaz, M, Epelde, E, Tabernilla, Z, Ateka, A, ...</td>\n",
       "      <td>\\n\\n\\nUniv Basque Country, Dept Chem Engn, UPV...</td>\n",
       "    </tr>\n",
       "    <tr>\n",
       "      <th>99997</th>\n",
       "      <td>WOS:000563265100001</td>\n",
       "      <td>3</td>\n",
       "      <td>6</td>\n",
       "      <td>SMALL</td>\n",
       "      <td>WILEY-V C H VERLAG GMBH</td>\n",
       "      <td>[Zaker, Y, Ashenfelter, BA, Bhattarai, B, Diem...</td>\n",
       "      <td>\\n\\n\\nUniv Toledo, Dept Chem &amp; Biochem, 2801 W...</td>\n",
       "    </tr>\n",
       "    <tr>\n",
       "      <th>99998</th>\n",
       "      <td>WOS:000529877600078</td>\n",
       "      <td>6</td>\n",
       "      <td>10</td>\n",
       "      <td>BIOMOLECULES</td>\n",
       "      <td>MDPI</td>\n",
       "      <td>[Szwed, A, Milowska, K, Michlewska, S, Moreno,...</td>\n",
       "      <td>\\n\\n\\nUniv Lodz, Fac Biol &amp; Environm Protect, ...</td>\n",
       "    </tr>\n",
       "    <tr>\n",
       "      <th>99999</th>\n",
       "      <td>WOS:000509617400030</td>\n",
       "      <td>3</td>\n",
       "      <td>6</td>\n",
       "      <td>FISH &amp; SHELLFISH IMMUNOLOGY</td>\n",
       "      <td>ACADEMIC PRESS LTD- ELSEVIER SCIENCE LTD</td>\n",
       "      <td>[Sirisena, DMKP, Tharuka, MDN, Liyanage, DS, J...</td>\n",
       "      <td>\\n\\n\\nJeju Natl Univ, Dept Marine Life Sci, Ar...</td>\n",
       "    </tr>\n",
       "  </tbody>\n",
       "</table>\n",
       "</div>"
      ],
      "text/plain": [
       "                       UID  Number of Affiliations  No. of Authors with Aff  \\\n",
       "99995  WOS:000516426900002                       1                        2   \n",
       "99996  WOS:000558533200095                       1                        6   \n",
       "99997  WOS:000563265100001                       3                        6   \n",
       "99998  WOS:000529877600078                       6                       10   \n",
       "99999  WOS:000509617400030                       3                        6   \n",
       "\n",
       "                                            Source Title  \\\n",
       "99995  CLUSTER COMPUTING-THE JOURNAL OF NETWORKS SOFT...   \n",
       "99996                                             ENERGY   \n",
       "99997                                              SMALL   \n",
       "99998                                       BIOMOLECULES   \n",
       "99999                        FISH & SHELLFISH IMMUNOLOGY   \n",
       "\n",
       "                                      Publisher  \\\n",
       "99995                                  SPRINGER   \n",
       "99996             PERGAMON-ELSEVIER SCIENCE LTD   \n",
       "99997                   WILEY-V C H VERLAG GMBH   \n",
       "99998                                      MDPI   \n",
       "99999  ACADEMIC PRESS LTD- ELSEVIER SCIENCE LTD   \n",
       "\n",
       "                                             All Authors  \\\n",
       "99995                           [Mishra, SK, Manjula, R]   \n",
       "99996  [Diaz, M, Epelde, E, Tabernilla, Z, Ateka, A, ...   \n",
       "99997  [Zaker, Y, Ashenfelter, BA, Bhattarai, B, Diem...   \n",
       "99998  [Szwed, A, Milowska, K, Michlewska, S, Moreno,...   \n",
       "99999  [Sirisena, DMKP, Tharuka, MDN, Liyanage, DS, J...   \n",
       "\n",
       "                                   Authors with Aff text  \n",
       "99995  \\n\\n\\nVIT Univ, Sch Comp Sci & Engn SCOPE, Vel...  \n",
       "99996  \\n\\n\\nUniv Basque Country, Dept Chem Engn, UPV...  \n",
       "99997  \\n\\n\\nUniv Toledo, Dept Chem & Biochem, 2801 W...  \n",
       "99998  \\n\\n\\nUniv Lodz, Fac Biol & Environm Protect, ...  \n",
       "99999  \\n\\n\\nJeju Natl Univ, Dept Marine Life Sci, Ar...  "
      ]
     },
     "execution_count": 42,
     "metadata": {},
     "output_type": "execute_result"
    }
   ],
   "source": [
    "df.tail()"
   ]
  },
  {
   "cell_type": "code",
   "execution_count": null,
   "metadata": {},
   "outputs": [],
   "source": []
  }
 ],
 "metadata": {
  "kernelspec": {
   "display_name": "Python 3 (3.9.9)",
   "language": "python",
   "name": "python3-3.9.9"
  },
  "language_info": {
   "codemirror_mode": {
    "name": "ipython",
    "version": 3
   },
   "file_extension": ".py",
   "mimetype": "text/x-python",
   "name": "python",
   "nbconvert_exporter": "python",
   "pygments_lexer": "ipython3",
   "version": "3.9.9"
  }
 },
 "nbformat": 4,
 "nbformat_minor": 2
}
